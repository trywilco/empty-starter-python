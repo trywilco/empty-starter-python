from classiq import *

@qfunc
def main(test: Output[QBit]):
    state1 = QArray("state1")
    state2 = QArray("state2")

    prepare_state(probabilities=[1,0,0,0], bound=0.01, out=state1)
    prepare_state(probabilities=[0,0,1,0], bound=0.01, out=state2)

    swap_test(state1, state2, test)


qmod = create_model(main)
qmod = set_execution_preferences(qmod, num_shots=100_000)
write_qmod(qmod, "swap_test", decimal_precision=15)
qprog = synthesize(qmod)
show(qprog)
